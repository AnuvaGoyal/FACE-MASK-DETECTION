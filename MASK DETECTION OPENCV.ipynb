{
 "cells": [
  {
   "cell_type": "code",
   "execution_count": 2,
   "metadata": {},
   "outputs": [],
   "source": [
    "import numpy as np\n",
    "import cv2 as cv"
   ]
  },
  {
   "cell_type": "code",
   "execution_count": 3,
   "metadata": {},
   "outputs": [],
   "source": [
    "haar_cascade = cv.CascadeClassifier(r'C:\\Users\\pragati\\Desktop\\MASK DETECTION\\haar_face.xml')"
   ]
  },
  {
   "cell_type": "code",
   "execution_count": 4,
   "metadata": {},
   "outputs": [],
   "source": [
    "classes = ['incorrect_mask', 'with_mask', 'without_mask']\n",
    "features = np.load('features.npy',allow_pickle=True)\n",
    "labels = np.load('labels.npy', allow_pickle=True)"
   ]
  },
  {
   "cell_type": "code",
   "execution_count": 5,
   "metadata": {},
   "outputs": [],
   "source": [
    "face_recognizer = cv.face.LBPHFaceRecognizer_create()\n",
    "face_recognizer.read('mask_trained.yml')"
   ]
  },
  {
   "cell_type": "code",
   "execution_count": 30,
   "metadata": {},
   "outputs": [],
   "source": [
    "#Mapping\n",
    "img = cv.imread(r'C:\\Users\\pragati\\Desktop\\MASK DETECTION\\SINGLE_PREDICTION2\\predict5.jpg')\n",
    "gray = cv.cvtColor(img, cv.COLOR_BGR2GRAY)"
   ]
  },
  {
   "cell_type": "code",
   "execution_count": 31,
   "metadata": {},
   "outputs": [
    {
     "name": "stdout",
     "output_type": "stream",
     "text": [
      "label = incorrect_mask with a confidence of 0.0\n"
     ]
    },
    {
     "data": {
      "text/plain": [
       "-1"
      ]
     },
     "execution_count": 31,
     "metadata": {},
     "output_type": "execute_result"
    }
   ],
   "source": [
    "#Detect the mask\n",
    "\n",
    "faces_rect = haar_cascade.detectMultiScale(gray, 1.1, 4)\n",
    "\n",
    "for (x, y, w, h) in faces_rect:\n",
    "    faces_roi = gray[y:y+h, x:x+w]\n",
    "    label, confidence = face_recognizer.predict(faces_roi)\n",
    "    print(f'label = {classes[label]} with a confidence of {confidence}')\n",
    "    cv.putText(img, str(classes[label]), (20,20), cv.FONT_HERSHEY_COMPLEX, 1.0, (0, 0, 0), thickness = 2)\n",
    "    \n",
    "cv.imshow('Prediction', img)\n",
    "cv.waitKey(0)"
   ]
  }
 ],
 "metadata": {
  "kernelspec": {
   "display_name": "Python 3",
   "language": "python",
   "name": "python3"
  },
  "language_info": {
   "codemirror_mode": {
    "name": "ipython",
    "version": 3
   },
   "file_extension": ".py",
   "mimetype": "text/x-python",
   "name": "python",
   "nbconvert_exporter": "python",
   "pygments_lexer": "ipython3",
   "version": "3.8.8"
  }
 },
 "nbformat": 4,
 "nbformat_minor": 4
}
