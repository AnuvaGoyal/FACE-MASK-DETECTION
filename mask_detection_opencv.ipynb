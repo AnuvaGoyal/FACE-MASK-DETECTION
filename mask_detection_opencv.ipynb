{
 "cells": [
  {
   "cell_type": "code",
   "execution_count": 1,
   "metadata": {},
   "outputs": [],
   "source": [
    "import os\n",
    "import cv2 as cv\n",
    "import numpy as np"
   ]
  },
  {
   "cell_type": "code",
   "execution_count": 2,
   "metadata": {},
   "outputs": [],
   "source": [
    "classes = ['incorrect_mask', 'with_mask', 'without_mask']"
   ]
  },
  {
   "cell_type": "code",
   "execution_count": 8,
   "metadata": {},
   "outputs": [],
   "source": [
    "DIR = r'C:\\Users\\pragati\\Desktop\\MASK DETECTION\\MASK_DATA2'"
   ]
  },
  {
   "cell_type": "code",
   "execution_count": 9,
   "metadata": {},
   "outputs": [],
   "source": [
    "features = []\n",
    "labels = []"
   ]
  },
  {
   "cell_type": "code",
   "execution_count": 10,
   "metadata": {},
   "outputs": [],
   "source": [
    "haar_cascade = cv.CascadeClassifier(r'C:\\Users\\pragati\\Desktop\\MASK DETECTION\\haar_face.xml')"
   ]
  },
  {
   "cell_type": "code",
   "execution_count": 11,
   "metadata": {},
   "outputs": [],
   "source": [
    "def create_train():\n",
    "    for category in classes:\n",
    "        path = os.path.join(DIR, category)\n",
    "        label = classes.index(category)\n",
    "        \n",
    "        for img in os.listdir(path):\n",
    "            img_path = os.path.join(path, img)\n",
    "\n",
    "            img_array = cv.imread(img_path)\n",
    "            gray = cv.cvtColor(img_array, cv.COLOR_BGR2GRAY)\n",
    "\n",
    "            faces_rect = haar_cascade.detectMultiScale(gray, scaleFactor = 1.1, minNeighbors = 4)\n",
    "\n",
    "            for (x, y, w, h) in faces_rect:\n",
    "                faces_roi = gray[y:y+h, x:x+w]\n",
    "                features.append(faces_roi)\n",
    "                labels.append(label)"
   ]
  },
  {
   "cell_type": "code",
   "execution_count": 12,
   "metadata": {},
   "outputs": [
    {
     "name": "stdout",
     "output_type": "stream",
     "text": [
      "length of the features = 2051\n",
      "length of the labels = 2051\n",
      "Training done\n"
     ]
    }
   ],
   "source": [
    "create_train()\n",
    "print(f'length of the features = {len(features)}')\n",
    "print(f'length of the labels = {len(labels)}')\n",
    "print('Training done')"
   ]
  },
  {
   "cell_type": "code",
   "execution_count": 16,
   "metadata": {},
   "outputs": [],
   "source": [
    "face_recognizer = cv.face.LBPHFaceRecognizer_create()\n",
    "\n",
    "#converting list to numpy arrays\n",
    "features = np.array(features, dtype = 'object')\n",
    "labels = np.array(labels)\n",
    "\n",
    "#Train the recognizer on the features list and the labels list\n",
    "\n",
    "face_recognizer.train(features, labels)\n",
    "\n",
    "np.save('features.npy', features)\n",
    "np.save('labels.npy', labels)\n",
    "face_recognizer.save('mask_trained.yml')"
   ]
  }
 ],
 "metadata": {
  "kernelspec": {
   "display_name": "Python 3",
   "language": "python",
   "name": "python3"
  },
  "language_info": {
   "codemirror_mode": {
    "name": "ipython",
    "version": 3
   },
   "file_extension": ".py",
   "mimetype": "text/x-python",
   "name": "python",
   "nbconvert_exporter": "python",
   "pygments_lexer": "ipython3",
   "version": "3.8.8"
  }
 },
 "nbformat": 4,
 "nbformat_minor": 4
}
